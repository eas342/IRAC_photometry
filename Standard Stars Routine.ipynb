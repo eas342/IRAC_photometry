{
 "cells": [
  {
   "cell_type": "code",
   "execution_count": 2,
   "metadata": {
    "collapsed": false
   },
   "outputs": [],
   "source": [
    "import numpy as np\n",
    "import functions as func\n",
    "import matplotlib.pyplot as plt\n",
    "import pdb, glob, mpld3, time\n",
    "import mirpyidl as idl\n",
    "from tqdm import tqdm\n",
    "from astropy.io import fits, ascii\n",
    "from astropy.wcs import WCS\n",
    "from astropy import units as u\n",
    "from astropy.coordinates import SkyCoord\n",
    "from astropy.table import Table\n",
    "from mpld3 import plugins\n",
    "\n",
    "%matplotlib inline\n",
    "plt.rcParams[\"figure.figsize\"] = (10, 8)\n",
    "mpld3.enable_notebook()"
   ]
  },
  {
   "cell_type": "markdown",
   "metadata": {},
   "source": [
    "**File name directory example:  \n",
    "bd +60 1753 all ch1 data: /data1/phot_cal/spitzer/bd601753/r*/ch1/bcd/*_bcd.fits**"
   ]
  },
  {
   "cell_type": "code",
   "execution_count": 4,
   "metadata": {
    "collapsed": false,
    "scrolled": false
   },
   "outputs": [
    {
     "name": "stdout",
     "output_type": "stream",
     "text": [
      "path to bcd files:/data1/phot_cal/spitzer/bd601753/r*/ch1/bcd/*_bcd.fits\n"
     ]
    },
    {
     "data": {
      "text/plain": [
       "19742"
      ]
     },
     "execution_count": 4,
     "metadata": {},
     "output_type": "execute_result"
    }
   ],
   "source": [
    "fnames = np.sort(glob.glob(raw_input('path to bcd files:')))\n",
    "len(fnames)"
   ]
  },
  {
   "cell_type": "markdown",
   "metadata": {},
   "source": [
    "**Next cell generates flux data with no systematics removed**"
   ]
  },
  {
   "cell_type": "code",
   "execution_count": 3,
   "metadata": {
    "collapsed": false
   },
   "outputs": [
    {
     "name": "stderr",
     "output_type": "stream",
     "text": [
      "  0%|          | 0/19742 [00:00<?, ?it/s]/home/rafia/anaconda2/lib/python2.7/site-packages/ipykernel/__main__.py:45: DeprecationWarning: using a non-integer number instead of an integer will result in an error in the future\n",
      " 12%|█▏        | 2312/19742 [07:02<53:08,  5.47it/s]WARNING: The fit may be unsuccessful; check fit_info['message'] for more information. [astropy.modeling.fitting]\n",
      "100%|██████████| 19742/19742 [1:10:01<00:00,  4.70it/s]\n",
      "WARNING: AstropyDeprecationWarning: bd_ch1_refined_data.csv already exists. Automatically overwriting ASCII files is deprecated. Use the argument 'overwrite=True' in the future. [astropy.io.ascii.ui]\n"
     ]
    }
   ],
   "source": [
    "sky = SkyCoord('17 24 52.2772360943 +60 25 50.780790994', unit=(u.hourangle, u.deg))\n",
    "\n",
    "#Issues list\n",
    "crd_conversion = []\n",
    "centroiding    = []\n",
    "bad_cen_guess  = []\n",
    "\n",
    "data = Table(names = ('File#','ACenX', 'ACenY', 'FCenX', 'FCenY', 'Time[MJD]', 'Raw_Flux', 'Bkg_Flux', 'Res_Flux'), \n",
    "             dtype = ('S15', 'f8', 'f8', 'f8', 'f8', 'f8', 'f8', 'f8', 'f8', 'f8'))\n",
    "\n",
    "\n",
    "for fn in tqdm(fnames):\n",
    "    \n",
    "    hdu    = fits.open(fn)\n",
    "    header = hdu[0].header\n",
    "    image  = hdu[0].data\n",
    "    hdu.close()\n",
    "\n",
    "    fnum = fn[62:75]\n",
    "    Time = header['MJD_OBS']\n",
    "\n",
    "    try:\n",
    "        w = WCS(header)\n",
    "        pix = sky.to_pixel(w)\n",
    "    except:\n",
    "        crd_conversion.append(fnum)\n",
    "        continue\n",
    "\n",
    "    if (pix[0]>0) & (pix[0]<256) & (pix[1]>0) & (pix[1]<256):\n",
    "\n",
    "        try:\n",
    "            cenX, cenY = func.gen_center_g2d(pix[0], pix[1], 7, 5, 4, 4, 0, image)\n",
    "        except:\n",
    "            centroiding.append(fnum)\n",
    "            continue\n",
    "        \n",
    "        if (np.abs(cenX - pix[0]) <= 2) & (np.abs(cenY-pix[1]) <= 2):\n",
    "            \n",
    "            try:\n",
    "                # Extracting raw flux\n",
    "                raw_flux, src_ap = func.photometry(image, [cenX], [cenY], rad = 10)\n",
    "\n",
    "                # Extrating a mean background flux\n",
    "                bkg, bkg_ap = func.photometry(image, [cenX], [cenY], shape = 'CircAnn', r_in = 12, r_out = 20)\n",
    "                bkg_mean = bkg/bkg_ap.area()\n",
    "                bkg_flux = bkg_mean*src_ap.area()\n",
    "\n",
    "                # Subtracting background\n",
    "                res_flux  = raw_flux - bkg_flux\n",
    "\n",
    "                data.add_row([fnum, pix[0], pix[1], cenX, cenY, Time, raw_flux, bkg_flux, res_flux])\n",
    "            \n",
    "            except:\n",
    "                continue\n",
    "            \n",
    "        else:\n",
    "            bad_cen_guess.append(fnum)"
   ]
  },
  {
   "cell_type": "markdown",
   "metadata": {},
   "source": [
    "**Run next cell if you want to save the data generated from previous cell  \n",
    "Change file names if you don't want to overwrite**"
   ]
  },
  {
   "cell_type": "code",
   "execution_count": null,
   "metadata": {
    "collapsed": true
   },
   "outputs": [],
   "source": [
    "np.save('crd_conversion_issue_bd_ch1.npy', np.array(crd_conversion))\n",
    "np.save('centroiding_issue_bd_ch1.npy', np.array(centroiding))\n",
    "np.save('bad_cen_guess_bd_ch1.npy', np.array(bad_cen_guess))\n",
    "ascii.write(data, 'bd_ch1_refined_data.csv')"
   ]
  },
  {
   "cell_type": "markdown",
   "metadata": {},
   "source": [
    "**Remove systematics using IDL code  \n",
    "Systematics removed through this process: Array location dependent correction, pixel phase correction, callibration factor**"
   ]
  },
  {
   "cell_type": "markdown",
   "metadata": {},
   "source": [
    "```idl\n",
    "data  = read_csv('/bd_ch1_data.csv')    ;Use proper file path\n",
    "cenX  = data.field4                     ;Usually column 4 is the fitted cenX column of my generated table\n",
    "cenY  = data.field5                     ;Be careful about which column you are using\n",
    "oFlux = data.field9                     ;We use the residual flux column for observed flux\n",
    "\n",
    ";Now to calculate corrected flux\n",
    ";Make sure to have irac_aphot_corr_cryo.pro in the same folder\n",
    ";You might need to comple it using .compile irac_aphot_corr_cryo.pro command \n",
    "cFlux = IRAC_APHOT_CORR_CRYO(obsFlux, cenX, cenY, 1)\n",
    "write_csv, filename.csv, cFlux\n",
    "\n",
    ";Useful commands:\n",
    ";help, data  (works with any array)\n",
    ";print, data \n",
    "```"
   ]
  },
  {
   "cell_type": "markdown",
   "metadata": {},
   "source": [
    "**Use last systematics removed flux to remove another systematics: Aperture correction**"
   ]
  },
  {
   "cell_type": "code",
   "execution_count": 5,
   "metadata": {
    "collapsed": false,
    "scrolled": true
   },
   "outputs": [],
   "source": [
    "corr_flux = ascii.read('../hd_ch1_cFlux.csv')  #Use proper filename"
   ]
  },
  {
   "cell_type": "code",
   "execution_count": 6,
   "metadata": {
    "collapsed": true
   },
   "outputs": [],
   "source": [
    "# Find the aperture correction factor from the following link:\n",
    "# https://irsa.ipac.caltech.edu/data/SPITZER/docs/irac/iracinstrumenthandbook/27/\n",
    "#from the table at the end of that link, select your value accoring to your aperture size and channel\n",
    "\n",
    "ap_corr = 1.000"
   ]
  },
  {
   "cell_type": "code",
   "execution_count": 9,
   "metadata": {
    "collapsed": false
   },
   "outputs": [],
   "source": [
    "#write the refined flux to the data table in a new column\n",
    "\n",
    "data = ascii.read('hd_ch1_data.csv')   #Again.. use proper filename\n",
    "data['Refined_Flux'] = np.array(corr_flux).astype('Float64')*ap_corr\n",
    "ascii.write(data, 'hd_ch1_refined_data.csv', overwrite = True) #change filename if overwriting is not desired"
   ]
  },
  {
   "cell_type": "markdown",
   "metadata": {},
   "source": [
    "**Go from MJy/Sr to Jy**"
   ]
  },
  {
   "cell_type": "code",
   "execution_count": null,
   "metadata": {
    "collapsed": true
   },
   "outputs": [],
   "source": []
  }
 ],
 "metadata": {
  "kernelspec": {
   "display_name": "Python 2",
   "language": "python",
   "name": "python2"
  },
  "language_info": {
   "codemirror_mode": {
    "name": "ipython",
    "version": 2
   },
   "file_extension": ".py",
   "mimetype": "text/x-python",
   "name": "python",
   "nbconvert_exporter": "python",
   "pygments_lexer": "ipython2",
   "version": "2.7.13"
  }
 },
 "nbformat": 4,
 "nbformat_minor": 0
}
