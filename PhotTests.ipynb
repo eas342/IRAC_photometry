{
 "cells": [
  {
   "cell_type": "code",
   "execution_count": 1,
   "metadata": {
    "collapsed": true
   },
   "outputs": [],
   "source": [
    "import numpy as np\n",
    "import matplotlib.pyplot as plt\n",
    "from astropy.io import ascii\n",
    "import mpld3\n",
    "%matplotlib inline"
   ]
  },
  {
   "cell_type": "code",
   "execution_count": 4,
   "metadata": {
    "collapsed": false
   },
   "outputs": [],
   "source": [
    "phot_table = ascii.read('ap_phot_pipeline_results/N2420_dt_20180802.csv')\n",
    "src_star   = ascii.read('../g_starsNGC2420.csv')"
   ]
  },
  {
   "cell_type": "code",
   "execution_count": 6,
   "metadata": {
    "collapsed": false
   },
   "outputs": [
    {
     "data": {
      "text/html": [
       "&lt;Column name=&apos;Star1_Res&apos; dtype=&apos;float64&apos; length=13&gt;\n",
       "<table>\n",
       "<tr><td>8.08444236793</td></tr>\n",
       "<tr><td>7.70595496755</td></tr>\n",
       "<tr><td>8.02520158933</td></tr>\n",
       "<tr><td>8.27214074403</td></tr>\n",
       "<tr><td>7.84463733879</td></tr>\n",
       "<tr><td>8.02046128572</td></tr>\n",
       "<tr><td>10.6336166118</td></tr>\n",
       "<tr><td>8.37482519475</td></tr>\n",
       "<tr><td>8.05024880888</td></tr>\n",
       "<tr><td>7.94895014996</td></tr>\n",
       "<tr><td>8.02019391382</td></tr>\n",
       "<tr><td>8.64175081865</td></tr>\n",
       "<tr><td>7.6002278823</td></tr>\n",
       "</table>"
      ],
      "text/plain": [
       "<Column name='Star1_Res' dtype='float64' length=13>\n",
       "8.08444236793\n",
       "7.70595496755\n",
       "8.02520158933\n",
       "8.27214074403\n",
       "7.84463733879\n",
       "8.02046128572\n",
       "10.6336166118\n",
       "8.37482519475\n",
       "8.05024880888\n",
       "7.94895014996\n",
       "8.02019391382\n",
       "8.64175081865\n",
       " 7.6002278823"
      ]
     },
     "execution_count": 6,
     "metadata": {},
     "output_type": "execute_result"
    }
   ],
   "source": [
    "mask = np.where(phot_table['Star1_Res'] != 0.0)\n",
    "phot_table['Star1_Res'][mask]"
   ]
  },
  {
   "cell_type": "code",
   "execution_count": 35,
   "metadata": {
    "collapsed": false
   },
   "outputs": [],
   "source": [
    "flux = []\n",
    "for sname in phot_table.colnames[3::2]:\n",
    "    mask = np.where(phot_table[sname] != 0.0)\n",
    "    flux.append(np.nanmean(phot_table[sname][mask]))"
   ]
  },
  {
   "cell_type": "code",
   "execution_count": 63,
   "metadata": {
    "collapsed": false
   },
   "outputs": [
    {
     "data": {
      "image/png": "[encoded data removed]",
      "text/plain": [
       "<matplotlib.figure.Figure at 0x7ff84a8ba790>"
      ]
     },
     "metadata": {},
     "output_type": "display_data"
    }
   ],
   "source": [
    "calc_mag = np.log10(flux)\n",
    "k_mag    = src_star['K mag']\n",
    "\n",
    "fig, ax = plt.subplots()\n",
    "ax.plot(k_mag, calc_mag, 'o')\n",
    "ax.set_xlabel('K Band Magnitude')\n",
    "ax.set_ylabel('Calculated Magnitude')\n",
    "ax.set_title('Photometry Accuracy Test NGC 2420')\n",
    "\n",
    "labels = ['%i' % (i+1) for i in range(len(k_mag))]\n",
    "for i, labels in enumerate(labels):\n",
    "    ax.annotate(labels, (k_mag[i], calc_mag[i]))\n",
    "plt.savefig('mag-mag plot.png')"
   ]
  }
 ],
 "metadata": {
  "kernelspec": {
   "display_name": "Python 2",
   "language": "python",
   "name": "python2"
  },
  "language_info": {
   "codemirror_mode": {
    "name": "ipython",
    "version": 2
   },
   "file_extension": ".py",
   "mimetype": "text/x-python",
   "name": "python",
   "nbconvert_exporter": "python",
   "pygments_lexer": "ipython2",
   "version": "2.7.13"
  }
 },
 "nbformat": 4,
 "nbformat_minor": 0
}
