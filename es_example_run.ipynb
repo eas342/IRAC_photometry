{
 "cells": [
  {
   "cell_type": "markdown",
   "metadata": {},
   "source": [
    "# An independent test of Rafia's Pipeline"
   ]
  },
  {
   "cell_type": "markdown",
   "metadata": {},
   "source": [
    "Import Rafia's pipeline"
   ]
  },
  {
   "cell_type": "code",
   "execution_count": 11,
   "metadata": {
    "collapsed": false
   },
   "outputs": [],
   "source": [
    "import AOR_Pipeline as pipeline\n",
    "import glob\n",
    "from astropy import units as u\n",
    "from astropy.coordinates import SkyCoord\n"
   ]
  },
  {
   "cell_type": "markdown",
   "metadata": {},
   "source": [
    "## Example data set\n",
    "Choosing the first AOR from Rafia's run 5"
   ]
  },
  {
   "cell_type": "code",
   "execution_count": 12,
   "metadata": {
    "collapsed": true
   },
   "outputs": [],
   "source": [
    "fileList = glob.glob('/data1/phot_cal/spitzer/hd165459/'+\n",
    "                     'cryo/r11638016/ch1/bcd/*bcd.fits')\n",
    "AORs = [fileList]"
   ]
  },
  {
   "cell_type": "code",
   "execution_count": 15,
   "metadata": {
    "collapsed": false
   },
   "outputs": [
    {
     "data": {
      "text/plain": [
       "[['/data1/phot_cal/spitzer/hd165459/cryo/r11638016/ch1/bcd/SPITZER_I1_11638016_0000_0000_6_bcd.fits',\n",
       "  '/data1/phot_cal/spitzer/hd165459/cryo/r11638016/ch1/bcd/SPITZER_I1_11638016_0008_0000_6_bcd.fits',\n",
       "  '/data1/phot_cal/spitzer/hd165459/cryo/r11638016/ch1/bcd/SPITZER_I1_11638016_0006_0000_6_bcd.fits',\n",
       "  '/data1/phot_cal/spitzer/hd165459/cryo/r11638016/ch1/bcd/SPITZER_I1_11638016_0003_0000_6_bcd.fits',\n",
       "  '/data1/phot_cal/spitzer/hd165459/cryo/r11638016/ch1/bcd/SPITZER_I1_11638016_0001_0000_6_bcd.fits',\n",
       "  '/data1/phot_cal/spitzer/hd165459/cryo/r11638016/ch1/bcd/SPITZER_I1_11638016_0002_0000_6_bcd.fits',\n",
       "  '/data1/phot_cal/spitzer/hd165459/cryo/r11638016/ch1/bcd/SPITZER_I1_11638016_0004_0000_6_bcd.fits',\n",
       "  '/data1/phot_cal/spitzer/hd165459/cryo/r11638016/ch1/bcd/SPITZER_I1_11638016_0007_0000_6_bcd.fits',\n",
       "  '/data1/phot_cal/spitzer/hd165459/cryo/r11638016/ch1/bcd/SPITZER_I1_11638016_0005_0000_6_bcd.fits',\n",
       "  '/data1/phot_cal/spitzer/hd165459/cryo/r11638016/ch1/bcd/SPITZER_I1_11638016_0009_0000_6_bcd.fits']]"
      ]
     },
     "execution_count": 15,
     "metadata": {},
     "output_type": "execute_result"
    }
   ],
   "source": [
    "AORs"
   ]
  },
  {
   "cell_type": "markdown",
   "metadata": {},
   "source": [
    "Coordinates from Simbad"
   ]
  },
  {
   "cell_type": "code",
   "execution_count": 4,
   "metadata": {
    "collapsed": false
   },
   "outputs": [
    {
     "data": {
      "text/plain": [
       "<SkyCoord (ICRS): (ra, dec) in deg\n",
       "    ( 270.62808754,  58.62726595)>"
      ]
     },
     "execution_count": 4,
     "metadata": {},
     "output_type": "execute_result"
    }
   ],
   "source": [
    "srcCoord = SkyCoord('18 02 30.7410086899 +58 37 38.157415821',\n",
    "                   frame='icrs',unit=(u.hourangle,u.deg))\n",
    "srcCoord"
   ]
  },
  {
   "cell_type": "markdown",
   "metadata": {},
   "source": [
    "Aperture size from a middle row of the aperture correction table"
   ]
  },
  {
   "cell_type": "code",
   "execution_count": 5,
   "metadata": {
    "collapsed": true
   },
   "outputs": [],
   "source": [
    "r, rIn, rOut = 5, 12, 20"
   ]
  },
  {
   "cell_type": "code",
   "execution_count": 6,
   "metadata": {
    "collapsed": true
   },
   "outputs": [],
   "source": [
    "ap_corr = 1.047 ## looking it up from the table in README.md\n",
    "pixArea = 1.221 ## looking it up from the table in README.md\n",
    "mission = 'Cryogenic'\n",
    "channel = 1\n",
    "N = 'n/a'"
   ]
  },
  {
   "cell_type": "code",
   "execution_count": 7,
   "metadata": {
    "collapsed": false
   },
   "outputs": [
    {
     "name": "stderr",
     "output_type": "stream",
     "text": [
      "0it [00:00, ?it/s]\n",
      "0it [00:00, ?it/s]\u001b[A\n",
      "1it [00:00,  1.20it/s]\u001b[A\n",
      "2it [00:01,  1.72it/s]\u001b[A\n",
      "3it [00:01,  2.13it/s]\u001b[A\n",
      "4it [00:01,  2.54it/s]\u001b[A\n",
      "5it [00:01,  2.89it/s]\u001b[A\n",
      "6it [00:01,  3.04it/s]\u001b[A\n",
      "7it [00:02,  3.17it/s]\u001b[A\n",
      "8it [00:02,  3.38it/s]\u001b[A\n",
      "9it [00:02,  3.56it/s]\u001b[A\n",
      "10it [00:02,  3.73it/s]\u001b[A\n",
      "1it [00:08,  8.89s/it]\n"
     ]
    }
   ],
   "source": [
    "aor_data, img_data, prob_aor = pipeline.run(AORs, srcCoord, r, rIn, rOut, \n",
    "                                            ap_corr, pixArea, mission, \n",
    "                                            channel, N)"
   ]
  },
  {
   "cell_type": "code",
   "execution_count": 8,
   "metadata": {
    "collapsed": false
   },
   "outputs": [
    {
     "data": {
      "text/html": [
       "&lt;Table length=1&gt;\n",
       "<table id=\"table140306798657744\" class=\"table-striped table-bordered table-condensed\">\n",
       "<thead><tr><th>AORKEY</th><th>DateObs</th><th>Cycling DPattern</th><th>DScale</th><th>DPosition</th><th>FTime (sec)</th><th>Time (MJD)</th><th>Flux (mJy)</th><th>Error (mJy)</th><th>Spread (%)</th><th>Outliers Rejected</th></tr></thead>\n",
       "<thead><tr><th>int32</th><th>str25</th><th>str5</th><th>str10</th><th>str5</th><th>float64</th><th>float64</th><th>float64</th><th>float64</th><th>float64</th><th>int32</th></tr></thead>\n",
       "<tr><td>11638016</td><td>2004-07-18T23:03:55.314</td><td>NO</td><td>--</td><td>--</td><td>0.4</td><td>53204.9610569</td><td>2.24007277133e+13</td><td>119367380309.0</td><td>0.532872779121</td><td>0</td></tr>\n",
       "</table>"
      ],
      "text/plain": [
       "<Table length=1>\n",
       " AORKEY          DateObs         ...   Spread (%)   Outliers Rejected\n",
       " int32            str25          ...    float64           int32      \n",
       "-------- ----------------------- ... -------------- -----------------\n",
       "11638016 2004-07-18T23:03:55.314 ... 0.532872779121                 0"
      ]
     },
     "execution_count": 8,
     "metadata": {},
     "output_type": "execute_result"
    }
   ],
   "source": [
    "aor_data"
   ]
  },
  {
   "cell_type": "code",
   "execution_count": 9,
   "metadata": {
    "collapsed": false,
    "scrolled": false
   },
   "outputs": [
    {
     "data": {
      "text/html": [
       "&lt;Table length=10&gt;\n",
       "<table id=\"table140308262009936\" class=\"table-striped table-bordered table-condensed\">\n",
       "<thead><tr><th>File#</th><th>Coord Conversion Issue</th><th>Centroiding Issue</th><th>Bad Center Guess</th><th>Not In FOV</th><th>Xc</th><th>Yc</th><th>Fx</th><th>Fy</th><th>Time[MJD]</th><th>Raw_Flux</th><th>Bkg_Flux</th><th>Res_Flux</th></tr></thead>\n",
       "<thead><tr><th>str25</th><th>str5</th><th>str5</th><th>str5</th><th>str5</th><th>float64</th><th>float64</th><th>float64</th><th>float64</th><th>float64</th><th>float64</th><th>float64</th><th>float64</th></tr></thead>\n",
       "<tr><td>1</td><td>X</td><td>X</td><td>X</td><td>X</td><td>130.205385657</td><td>126.525119496</td><td>1.70580514766</td><td>1.40970634734</td><td>53204.9589689</td><td>17280.79676</td><td>25.9135770572</td><td>17254.883183</td></tr>\n",
       "<tr><td>2</td><td>X</td><td>X</td><td>X</td><td>X</td><td>67.0511936806</td><td>63.4841993491</td><td>1.69802968662</td><td>1.46596619411</td><td>53204.9608393</td><td>17696.8168828</td><td>43.8102365628</td><td>17653.0066462</td></tr>\n",
       "<tr><td>3</td><td>X</td><td>X</td><td>X</td><td>X</td><td>193.026840568</td><td>63.1090896377</td><td>1.58464191225</td><td>1.1586545119</td><td>53204.9603579</td><td>17862.8007192</td><td>48.2616579757</td><td>17814.5390612</td></tr>\n",
       "<tr><td>4</td><td>X</td><td>X</td><td>X</td><td>O</td><td>nan</td><td>nan</td><td>nan</td><td>nan</td><td>53204.9596819</td><td>nan</td><td>nan</td><td>nan</td></tr>\n",
       "<tr><td>5</td><td>X</td><td>X</td><td>X</td><td>O</td><td>nan</td><td>nan</td><td>nan</td><td>nan</td><td>53204.9592097</td><td>nan</td><td>nan</td><td>nan</td></tr>\n",
       "<tr><td>6</td><td>X</td><td>X</td><td>X</td><td>X</td><td>68.0432073057</td><td>189.838214351</td><td>1.38436575581</td><td>1.27275219246</td><td>53204.9594597</td><td>17718.4987023</td><td>34.852508477</td><td>17683.6461938</td></tr>\n",
       "<tr><td>7</td><td>X</td><td>X</td><td>X</td><td>X</td><td>193.13645238</td><td>189.134013889</td><td>1.07496157501</td><td>1.59874368642</td><td>53204.9598902</td><td>17704.1132683</td><td>34.0726276599</td><td>17670.0406406</td></tr>\n",
       "<tr><td>8</td><td>X</td><td>X</td><td>X</td><td>O</td><td>nan</td><td>nan</td><td>nan</td><td>nan</td><td>53204.96058</td><td>nan</td><td>nan</td><td>nan</td></tr>\n",
       "<tr><td>9</td><td>X</td><td>X</td><td>X</td><td>O</td><td>nan</td><td>nan</td><td>nan</td><td>nan</td><td>53204.9601125</td><td>nan</td><td>nan</td><td>nan</td></tr>\n",
       "<tr><td>10</td><td>X</td><td>X</td><td>X</td><td>O</td><td>nan</td><td>nan</td><td>nan</td><td>nan</td><td>53204.9610569</td><td>nan</td><td>nan</td><td>nan</td></tr>\n",
       "</table>"
      ],
      "text/plain": [
       "<Table length=10>\n",
       "File# Coord Conversion Issue Centroiding Issue ...    Bkg_Flux      Res_Flux  \n",
       "str25          str5                 str5       ...    float64       float64   \n",
       "----- ---------------------- ----------------- ... ------------- -------------\n",
       "    1                      X                 X ... 25.9135770572  17254.883183\n",
       "    2                      X                 X ... 43.8102365628 17653.0066462\n",
       "    3                      X                 X ... 48.2616579757 17814.5390612\n",
       "    4                      X                 X ...           nan           nan\n",
       "    5                      X                 X ...           nan           nan\n",
       "    6                      X                 X ...  34.852508477 17683.6461938\n",
       "    7                      X                 X ... 34.0726276599 17670.0406406\n",
       "    8                      X                 X ...           nan           nan\n",
       "    9                      X                 X ...           nan           nan\n",
       "   10                      X                 X ...           nan           nan"
      ]
     },
     "execution_count": 9,
     "metadata": {},
     "output_type": "execute_result"
    }
   ],
   "source": [
    "img_data"
   ]
  },
  {
   "cell_type": "code",
   "execution_count": 10,
   "metadata": {
    "collapsed": false
   },
   "outputs": [
    {
     "data": {
      "text/plain": [
       "[]"
      ]
     },
     "execution_count": 10,
     "metadata": {},
     "output_type": "execute_result"
    }
   ],
   "source": [
    "prob_aor"
   ]
  },
  {
   "cell_type": "code",
   "execution_count": null,
   "metadata": {
    "collapsed": true
   },
   "outputs": [],
   "source": []
  }
 ],
 "metadata": {
  "kernelspec": {
   "display_name": "Python 2",
   "language": "python",
   "name": "python2"
  },
  "language_info": {
   "codemirror_mode": {
    "name": "ipython",
    "version": 2
   },
   "file_extension": ".py",
   "mimetype": "text/x-python",
   "name": "python",
   "nbconvert_exporter": "python",
   "pygments_lexer": "ipython2",
   "version": "2.7.13"
  }
 },
 "nbformat": 4,
 "nbformat_minor": 0
}
