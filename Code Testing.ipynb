{
 "cells": [
  {
   "cell_type": "code",
   "execution_count": 39,
   "metadata": {
    "collapsed": true
   },
   "outputs": [],
   "source": [
    "import numpy as np\n",
    "import pandas as pd\n",
    "import matplotlib.pyplot as plt\n",
    "import glob, pdb\n",
    "from astropy.io import fits, ascii\n",
    "from astropy.table import Table\n",
    "\n",
    "%matplotlib inline"
   ]
  },
  {
   "cell_type": "markdown",
   "metadata": {},
   "source": [
    "## Testing Markdown Language"
   ]
  },
  {
   "cell_type": "markdown",
   "metadata": {},
   "source": [
    "### Title\n",
    "- ordinary list item"
   ]
  },
  {
   "cell_type": "markdown",
   "metadata": {},
   "source": [
    "- list item 1\n",
    " - indented list item"
   ]
  },
  {
   "cell_type": "markdown",
   "metadata": {},
   "source": [
    "* ### title list item"
   ]
  },
  {
   "cell_type": "markdown",
   "metadata": {},
   "source": [
    "## Getting mikaela's aor list"
   ]
  },
  {
   "cell_type": "code",
   "execution_count": 4,
   "metadata": {
    "collapsed": false
   },
   "outputs": [
    {
     "data": {
      "text/html": [
       "&lt;Table length=1444&gt;\n",
       "<table id=\"table139628475676368\" class=\"table-striped table-bordered table-condensed\">\n",
       "<thead><tr><th>AORKEY</th><th>StarName</th></tr></thead>\n",
       "<thead><tr><th>str9</th><th>str14</th></tr></thead>\n",
       "<tr><td>r40398848</td><td>HD195725</td></tr>\n",
       "<tr><td>r40399104</td><td>HIP43760</td></tr>\n",
       "<tr><td>r40399360</td><td>HD043587</td></tr>\n",
       "<tr><td>r40399616</td><td>HIP72875</td></tr>\n",
       "<tr><td>r40399872</td><td>HD028527</td></tr>\n",
       "<tr><td>r40400128</td><td>HD206893</td></tr>\n",
       "<tr><td>r40400384</td><td>HIP30953</td></tr>\n",
       "<tr><td>r40400640</td><td>HIP96113</td></tr>\n",
       "<tr><td>r40400896</td><td>HIP63894</td></tr>\n",
       "<tr><td>r40401152</td><td>HIP18280</td></tr>\n",
       "<tr><td>...</td><td>...</td></tr>\n",
       "<tr><td>r40765952</td><td>HIP111888</td></tr>\n",
       "<tr><td>r40766208</td><td>HIP53486</td></tr>\n",
       "<tr><td>r40766464</td><td>HIP116085</td></tr>\n",
       "<tr><td>r40766720</td><td>HIP78170</td></tr>\n",
       "<tr><td>r40766976</td><td>HIP1837</td></tr>\n",
       "<tr><td>r40767232</td><td>HIP47403</td></tr>\n",
       "<tr><td>r40767488</td><td>HIP11565</td></tr>\n",
       "<tr><td>r40767744</td><td>LHS397</td></tr>\n",
       "<tr><td>r40768000</td><td>HIP38423</td></tr>\n",
       "<tr><td>r40768256</td><td>HIP21988</td></tr>\n",
       "</table>"
      ],
      "text/plain": [
       "<Table length=1444>\n",
       "  AORKEY   StarName\n",
       "   str9     str14  \n",
       "--------- ---------\n",
       "r40398848  HD195725\n",
       "r40399104  HIP43760\n",
       "r40399360  HD043587\n",
       "r40399616  HIP72875\n",
       "r40399872  HD028527\n",
       "r40400128  HD206893\n",
       "r40400384  HIP30953\n",
       "r40400640  HIP96113\n",
       "r40400896  HIP63894\n",
       "r40401152  HIP18280\n",
       "      ...       ...\n",
       "r40765952 HIP111888\n",
       "r40766208  HIP53486\n",
       "r40766464 HIP116085\n",
       "r40766720  HIP78170\n",
       "r40766976   HIP1837\n",
       "r40767232  HIP47403\n",
       "r40767488  HIP11565\n",
       "r40767744    LHS397\n",
       "r40768000  HIP38423\n",
       "r40768256  HIP21988"
      ]
     },
     "execution_count": 4,
     "metadata": {},
     "output_type": "execute_result"
    }
   ],
   "source": [
    "mklaList = ascii.read('../michaela_work/aors')\n",
    "mklaList"
   ]
  },
  {
   "cell_type": "code",
   "execution_count": 38,
   "metadata": {
    "collapsed": false
   },
   "outputs": [
    {
     "data": {
      "text/html": [
       "&lt;Column name=&apos;StarName&apos; dtype=&apos;str14&apos; length=1&gt;\n",
       "<table>\n",
       "<tr><td>HIP18280</td></tr>\n",
       "</table>"
      ],
      "text/plain": [
       "<Column name='StarName' dtype='str14' length=1>\n",
       "HIP18280"
      ]
     },
     "execution_count": 38,
     "metadata": {},
     "output_type": "execute_result"
    }
   ],
   "source": [
    "mklaList['StarName'][np.where(mklaList['AORKEY']=='r40401152')[0]]"
   ]
  },
  {
   "cell_type": "code",
   "execution_count": 40,
   "metadata": {
    "collapsed": false,
    "scrolled": true
   },
   "outputs": [
    {
     "data": {
      "text/plain": [
       "AORKEY\n",
       "r40398848          HD195725\n",
       "r40399104          HIP43760\n",
       "r40399360          HD043587\n",
       "r40399616          HIP72875\n",
       "r40399872          HD028527\n",
       "r40400128          HD206893\n",
       "r40400384          HIP30953\n",
       "r40400640          HIP96113\n",
       "r40400896          HIP63894\n",
       "r40401152          HIP18280\n",
       "r40401408          HIP29432\n",
       "r40401664          HD016287\n",
       "r40401920          HD118972\n",
       "r40402176          HD069351\n",
       "r40402432         HIP100356\n",
       "r40402688          HD131495\n",
       "r40402944          HIP84223\n",
       "r40403200          HIP45571\n",
       "r40403456           HIP6379\n",
       "r40403712          HD076151\n",
       "r40403968           LHS1017\n",
       "r40404224          HD006569\n",
       "r40404480          HD062613\n",
       "r40404736           LHS1016\n",
       "r40404992           HIP5286\n",
       "r40405248            HR1792\n",
       "r40405504             HR789\n",
       "r40405760          HD003823\n",
       "r40406016          HIP21965\n",
       "r40406272          HD118962\n",
       "                  ...      \n",
       "r40760832            HR2558\n",
       "r40761088          HD192486\n",
       "r40761344          HIP12300\n",
       "r40761600          HIP97223\n",
       "r40761856    GSC04229-01455\n",
       "r40762112           HIP1910\n",
       "r40762368          HIP97222\n",
       "r40762624          HIP55666\n",
       "r40762880          HD062644\n",
       "r40763136         HIP110443\n",
       "r40763392         HIP118261\n",
       "r40763648          HD028546\n",
       "r40763904          HD017390\n",
       "r40764160          HD165185\n",
       "r40764416          HIP37349\n",
       "r40764672          HD036435\n",
       "r40764928          HIP15919\n",
       "r40765184         HIP103635\n",
       "r40765440         HIP108195\n",
       "r40765696          HD079439\n",
       "r40765952         HIP111888\n",
       "r40766208          HIP53486\n",
       "r40766464         HIP116085\n",
       "r40766720          HIP78170\n",
       "r40766976           HIP1837\n",
       "r40767232          HIP47403\n",
       "r40767488          HIP11565\n",
       "r40767744            LHS397\n",
       "r40768000          HIP38423\n",
       "r40768256          HIP21988\n",
       "dtype: object"
      ]
     },
     "execution_count": 40,
     "metadata": {},
     "output_type": "execute_result"
    }
   ],
   "source": [
    "mList_df = pd.Series(mklaList['StarName'], mklaList['AORKEY'])\n",
    "mList_df"
   ]
  },
  {
   "cell_type": "code",
   "execution_count": 43,
   "metadata": {
    "collapsed": false
   },
   "outputs": [
    {
     "data": {
      "text/plain": [
       "'HIP18280'"
      ]
     },
     "execution_count": 43,
     "metadata": {},
     "output_type": "execute_result"
    }
   ],
   "source": [
    "mList_df['r40401152']"
   ]
  },
  {
   "cell_type": "code",
   "execution_count": 14,
   "metadata": {
    "collapsed": false
   },
   "outputs": [],
   "source": [
    "aorkeys = np.array(mklaList['AORKEY'])\n",
    "row = Table(aorkeys.T)\n",
    "ascii.write(row, 'michaela_aorkeys.txt', delimiter = ',', overwrite = False)"
   ]
  },
  {
   "cell_type": "code",
   "execution_count": 33,
   "metadata": {
    "collapsed": false
   },
   "outputs": [],
   "source": [
    "stNames = mklaList['StarName']\n",
    "ascii.write(stNames, 'michaela_StarNames.txt', overwrite = True)"
   ]
  },
  {
   "cell_type": "code",
   "execution_count": 35,
   "metadata": {
    "collapsed": false
   },
   "outputs": [
    {
     "data": {
      "text/plain": [
       "1444"
      ]
     },
     "execution_count": 35,
     "metadata": {},
     "output_type": "execute_result"
    }
   ],
   "source": [
    "a = glob.glob('/data1/phot_cal/spitzer/michaela/r*')\n",
    "len(a)"
   ]
  },
  {
   "cell_type": "markdown",
   "metadata": {},
   "source": [
    "## Getting Taurus Data"
   ]
  },
  {
   "cell_type": "code",
   "execution_count": 48,
   "metadata": {
    "collapsed": false
   },
   "outputs": [],
   "source": [
    "taurus = ascii.read('Taurus_votable.vot')\n",
    "ascii.write(taurus['col1'], 'taurus_aorkeys.txt', delimiter = ',', overwrite = True)"
   ]
  }
 ],
 "metadata": {
  "kernelspec": {
   "display_name": "Python 2",
   "language": "python",
   "name": "python2"
  },
  "language_info": {
   "codemirror_mode": {
    "name": "ipython",
    "version": 2
   },
   "file_extension": ".py",
   "mimetype": "text/x-python",
   "name": "python",
   "nbconvert_exporter": "python",
   "pygments_lexer": "ipython2",
   "version": "2.7.13"
  }
 },
 "nbformat": 4,
 "nbformat_minor": 0
}
