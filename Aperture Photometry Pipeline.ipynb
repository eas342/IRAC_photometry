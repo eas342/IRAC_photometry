{
 "cells": [
  {
   "cell_type": "code",
   "execution_count": 1,
   "metadata": {
    "collapsed": true
   },
   "outputs": [],
   "source": [
    "from astropy.io import fits, ascii\n",
    "from astropy.wcs import WCS\n",
    "from astropy.coordinates import SkyCoord\n",
    "from astropy.table import Table\n",
    "import numpy as np\n",
    "import functions as func\n",
    "import matplotlib.pyplot as plt\n",
    "import pdb, glob, mpld3\n",
    "from mpld3 import plugins\n",
    "\n",
    "%matplotlib inline\n",
    "plt.rcParams[\"figure.figsize\"] = (10, 8)\n",
    "mpld3.enable_notebook()"
   ]
  },
  {
   "cell_type": "markdown",
   "metadata": {},
   "source": [
    "In the next cell, provide path to bcd files to get a sorted list of bcd filenames\n",
    "- For NGC 2506, use: ../ngc2506/unzipped_AORs/ch1/bcd/*_bcd.fits\n",
    "- For NGC 2420, use: ../ngc2420/r16272384/ch1/bcd/*_bcd.fits    \n",
    "\n",
    "*Path name will change based on what channel and AOR you want*  \n",
    "*If you are not Rafia, your path will be the directory in which you kept your bcd files in your local machine* "
   ]
  },
  {
   "cell_type": "code",
   "execution_count": 2,
   "metadata": {
    "collapsed": false
   },
   "outputs": [
    {
     "name": "stdout",
     "output_type": "stream",
     "text": [
      "BCD files directory:../ngc2506/unzipped_AORs/ch1/bcd/*_bcd.fits\n"
     ]
    }
   ],
   "source": [
    "bcd_fnames = np.sort(glob.glob(raw_input(\"BCD files directory:\")))"
   ]
  },
  {
   "cell_type": "markdown",
   "metadata": {},
   "source": [
    "Provide csv files that contain information about G type reference stars in the clusters\n",
    "- NGC 2506: ../g_starsNGC2506.csv\n",
    "- NGC 2420: ../g_starsNGC2420.csv"
   ]
  },
  {
   "cell_type": "code",
   "execution_count": 6,
   "metadata": {
    "collapsed": false
   },
   "outputs": [
    {
     "name": "stdout",
     "output_type": "stream",
     "text": [
      "reference star file:../g_starsNGC2506.csv\n"
     ]
    },
    {
     "data": {
      "text/html": [
       "&lt;Table length=6&gt;\n",
       "<table id=\"table140544781969040\" class=\"table-striped table-bordered table-condensed\">\n",
       "<thead><tr><th>Name</th><th>Color (g-r)</th><th>g</th><th>SpType</th><th>ra</th><th>dec</th><th>K mag</th><th>K mag err</th><th>coord hms</th></tr></thead>\n",
       "<thead><tr><th>str16</th><th>float64</th><th>float64</th><th>str4</th><th>float64</th><th>float64</th><th>float64</th><th>float64</th><th>str26</th></tr></thead>\n",
       "<tr><td>O-0759528-104352</td><td>0.4235</td><td>18.0015</td><td>G0 V</td><td>119.970225</td><td>-10.7311305556</td><td>16.048</td><td>0.01</td><td>07 59 52.854 -10 43 52.07</td></tr>\n",
       "<tr><td>O-0800002-104721</td><td>0.372</td><td>17.7181</td><td>G0 V</td><td>120.000845833</td><td>-10.7893113889</td><td>15.976</td><td>0.009</td><td>08 00 00.203 -10 47 21.521</td></tr>\n",
       "<tr><td>O-0800006-104343</td><td>0.4452</td><td>18.1195</td><td>G0 V</td><td>120.002716667</td><td>-10.7287272222</td><td>16.178</td><td>0.011</td><td>08 00 00.652 -10 43 43.418</td></tr>\n",
       "<tr><td>O-0800021-104626</td><td>0.3754</td><td>17.9093</td><td>G0 V</td><td>120.009125</td><td>-10.7740391667</td><td>16.113</td><td>0.011</td><td>08 00 02.19 -10 46 26.541</td></tr>\n",
       "<tr><td>O-0800000-104222</td><td>0.5093</td><td>18.623</td><td>G5 V</td><td>120.0003875</td><td>-10.7061413889</td><td>16.313</td><td>0.013</td><td>08 00 00.093 -10 42 22.109</td></tr>\n",
       "<tr><td>O-0800285-104151</td><td>0.4357</td><td>18.0596</td><td>G5 V</td><td>120.118891667</td><td>-10.6975613889</td><td>16.178</td><td>0.011</td><td>08 00 28.534 -10 41 51.221</td></tr>\n",
       "</table>"
      ],
      "text/plain": [
       "<Table length=6>\n",
       "      Name       Color (g-r)    g    ... K mag err         coord hms         \n",
       "     str16         float64   float64 ...  float64            str26           \n",
       "---------------- ----------- ------- ... --------- --------------------------\n",
       "O-0759528-104352      0.4235 18.0015 ...      0.01  07 59 52.854 -10 43 52.07\n",
       "O-0800002-104721       0.372 17.7181 ...     0.009 08 00 00.203 -10 47 21.521\n",
       "O-0800006-104343      0.4452 18.1195 ...     0.011 08 00 00.652 -10 43 43.418\n",
       "O-0800021-104626      0.3754 17.9093 ...     0.011  08 00 02.19 -10 46 26.541\n",
       "O-0800000-104222      0.5093  18.623 ...     0.013 08 00 00.093 -10 42 22.109\n",
       "O-0800285-104151      0.4357 18.0596 ...     0.011 08 00 28.534 -10 41 51.221"
      ]
     },
     "execution_count": 6,
     "metadata": {},
     "output_type": "execute_result"
    }
   ],
   "source": [
    "src_info = ascii.read(raw_input(\"reference star file:\"))\n",
    "src_info"
   ]
  },
  {
   "cell_type": "code",
   "execution_count": 5,
   "metadata": {
    "collapsed": false
   },
   "outputs": [
    {
     "data": {
      "text/html": [
       "&lt;Table length=6&gt;\n",
       "<table id=\"table140544781967952\" class=\"table-striped table-bordered table-condensed\">\n",
       "<thead><tr><th>Name</th><th>Color (g-r)</th><th>g</th><th>SpType</th><th>ra</th><th>dec</th><th>K mag</th><th>K mag err</th><th>coord hms</th></tr></thead>\n",
       "<thead><tr><th>str16</th><th>float64</th><th>float64</th><th>str4</th><th>float64</th><th>float64</th><th>float64</th><th>float64</th><th>str26</th></tr></thead>\n",
       "<tr><td>O-0759528-104352</td><td>0.4235</td><td>18.0015</td><td>G0 V</td><td>119.970225</td><td>-10.7311305556</td><td>16.048</td><td>0.01</td><td>07 59 52.854 -10 43 52.07</td></tr>\n",
       "<tr><td>O-0800002-104721</td><td>0.372</td><td>17.7181</td><td>G0 V</td><td>120.000845833</td><td>-10.7893113889</td><td>15.976</td><td>0.009</td><td>08 00 00.203 -10 47 21.521</td></tr>\n",
       "<tr><td>O-0800006-104343</td><td>0.4452</td><td>18.1195</td><td>G0 V</td><td>120.002716667</td><td>-10.7287272222</td><td>16.178</td><td>0.011</td><td>08 00 00.652 -10 43 43.418</td></tr>\n",
       "<tr><td>O-0800021-104626</td><td>0.3754</td><td>17.9093</td><td>G0 V</td><td>120.009125</td><td>-10.7740391667</td><td>16.113</td><td>0.011</td><td>08 00 02.19 -10 46 26.541</td></tr>\n",
       "<tr><td>O-0800000-104222</td><td>0.5093</td><td>18.623</td><td>G5 V</td><td>120.0003875</td><td>-10.7061413889</td><td>16.313</td><td>0.013</td><td>08 00 00.093 -10 42 22.109</td></tr>\n",
       "<tr><td>O-0800285-104151</td><td>0.4357</td><td>18.0596</td><td>G5 V</td><td>120.118891667</td><td>-10.6975613889</td><td>16.178</td><td>0.011</td><td>08 00 28.534 -10 41 51.221</td></tr>\n",
       "</table>"
      ],
      "text/plain": [
       "<Table length=6>\n",
       "      Name       Color (g-r)    g    ... K mag err         coord hms         \n",
       "     str16         float64   float64 ...  float64            str26           \n",
       "---------------- ----------- ------- ... --------- --------------------------\n",
       "O-0759528-104352      0.4235 18.0015 ...      0.01  07 59 52.854 -10 43 52.07\n",
       "O-0800002-104721       0.372 17.7181 ...     0.009 08 00 00.203 -10 47 21.521\n",
       "O-0800006-104343      0.4452 18.1195 ...     0.011 08 00 00.652 -10 43 43.418\n",
       "O-0800021-104626      0.3754 17.9093 ...     0.011  08 00 02.19 -10 46 26.541\n",
       "O-0800000-104222      0.5093  18.623 ...     0.013 08 00 00.093 -10 42 22.109\n",
       "O-0800285-104151      0.4357 18.0596 ...     0.011 08 00 28.534 -10 41 51.221"
      ]
     },
     "execution_count": 5,
     "metadata": {},
     "output_type": "execute_result"
    }
   ],
   "source": []
  }
 ],
 "metadata": {
  "kernelspec": {
   "display_name": "Python 2",
   "language": "python",
   "name": "python2"
  },
  "language_info": {
   "codemirror_mode": {
    "name": "ipython",
    "version": 2
   },
   "file_extension": ".py",
   "mimetype": "text/x-python",
   "name": "python",
   "nbconvert_exporter": "python",
   "pygments_lexer": "ipython2",
   "version": "2.7.13"
  }
 },
 "nbformat": 4,
 "nbformat_minor": 0
}
