{
 "cells": [
  {
   "cell_type": "code",
   "execution_count": 4,
   "metadata": {
    "collapsed": false
   },
   "outputs": [],
   "source": [
    "import numpy as np\n",
    "import functions as func\n",
    "import matplotlib.pyplot as plt\n",
    "from astropy.io import fits, ascii\n",
    "from astropy.wcs import WCS\n",
    "import pdb, glob, mpld3\n",
    "\n",
    "%matplotlib inline\n",
    "plt.rcParams['figure.figsize'] = (10, 8)"
   ]
  },
  {
   "cell_type": "markdown",
   "metadata": {},
   "source": [
    "## Magnitude Test"
   ]
  },
  {
   "cell_type": "code",
   "execution_count": 4,
   "metadata": {
    "collapsed": false
   },
   "outputs": [],
   "source": [
    "phot_table = ascii.read('ap_phot_pipeline_results/N2420_dt_20180802.csv')\n",
    "src_star   = ascii.read('../g_starsNGC2420.csv')"
   ]
  },
  {
   "cell_type": "code",
   "execution_count": 6,
   "metadata": {
    "collapsed": false
   },
   "outputs": [
    {
     "data": {
      "text/html": [
       "&lt;Column name=&apos;Star1_Res&apos; dtype=&apos;float64&apos; length=13&gt;\n",
       "<table>\n",
       "<tr><td>8.08444236793</td></tr>\n",
       "<tr><td>7.70595496755</td></tr>\n",
       "<tr><td>8.02520158933</td></tr>\n",
       "<tr><td>8.27214074403</td></tr>\n",
       "<tr><td>7.84463733879</td></tr>\n",
       "<tr><td>8.02046128572</td></tr>\n",
       "<tr><td>10.6336166118</td></tr>\n",
       "<tr><td>8.37482519475</td></tr>\n",
       "<tr><td>8.05024880888</td></tr>\n",
       "<tr><td>7.94895014996</td></tr>\n",
       "<tr><td>8.02019391382</td></tr>\n",
       "<tr><td>8.64175081865</td></tr>\n",
       "<tr><td>7.6002278823</td></tr>\n",
       "</table>"
      ],
      "text/plain": [
       "<Column name='Star1_Res' dtype='float64' length=13>\n",
       "8.08444236793\n",
       "7.70595496755\n",
       "8.02520158933\n",
       "8.27214074403\n",
       "7.84463733879\n",
       "8.02046128572\n",
       "10.6336166118\n",
       "8.37482519475\n",
       "8.05024880888\n",
       "7.94895014996\n",
       "8.02019391382\n",
       "8.64175081865\n",
       " 7.6002278823"
      ]
     },
     "execution_count": 6,
     "metadata": {},
     "output_type": "execute_result"
    }
   ],
   "source": [
    "mask = np.where(phot_table['Star1_Res'] != 0.0)\n",
    "phot_table['Star1_Res'][mask]"
   ]
  },
  {
   "cell_type": "code",
   "execution_count": 35,
   "metadata": {
    "collapsed": false
   },
   "outputs": [],
   "source": [
    "flux = []\n",
    "for sname in phot_table.colnames[3::2]:\n",
    "    mask = np.where(phot_table[sname] != 0.0)\n",
    "    flux.append(np.nanmean(phot_table[sname][mask]))"
   ]
  },
  {
   "cell_type": "code",
   "execution_count": 63,
   "metadata": {
    "collapsed": false
   },
   "outputs": [
    {
     "data": {
      "image/png": "[encoded data removed]",
      "text/plain": [
       "<matplotlib.figure.Figure at 0x7ff84a8ba790>"
      ]
     },
     "metadata": {},
     "output_type": "display_data"
    }
   ],
   "source": [
    "calc_mag = np.log10(flux)\n",
    "k_mag    = src_star['K mag']\n",
    "\n",
    "fig, ax = plt.subplots()\n",
    "ax.plot(k_mag, calc_mag, 'o')\n",
    "ax.set_xlabel('K Band Magnitude')\n",
    "ax.set_ylabel('Calculated Magnitude')\n",
    "ax.set_title('Photometry Accuracy Test NGC 2420')\n",
    "\n",
    "labels = ['%i' % (i+1) for i in range(len(k_mag))]\n",
    "for i, labels in enumerate(labels):\n",
    "    ax.annotate(labels, (k_mag[i], calc_mag[i]))\n",
    "plt.savefig('mag-mag plot.png')"
   ]
  },
  {
   "cell_type": "markdown",
   "metadata": {},
   "source": [
    "## Center Test"
   ]
  },
  {
   "cell_type": "code",
   "execution_count": null,
   "metadata": {
    "collapsed": true
   },
   "outputs": [],
   "source": [
    "fnames_2506  = np.sort(glob.glob(\"../ngc2506/unzipped_AORs/ch1/bcd/*_bcd.fits\"))\n",
    "src_crd_2506 = np.load('sky_coord_ngc2506.npy')\n",
    "\n",
    "for fname in fnames_2506[1::2]:\n",
    "    hdu    = fits.open(bcd)\n",
    "    header = hdu[0].header\n",
    "    image  = hdu[0].data\n",
    "    hdu.close()\n",
    "    \n",
    "    w = WCS(header)\n",
    "    src_pixcrd = w.wcs_world2pix(src_crd_2506,1)\n",
    "    \n",
    "    count = 0\n",
    "    useful_pix = []\n",
    "    for pix in src_pixcrd:\n",
    "        if (pix[0]>0) & (pix[0]<256) & (pix[1]>0) & (pix[1]<256):\n",
    "            useful_pix.append(pix)\n",
    "            count += 1\n",
    "    \n",
    "    if count>0:\n",
    "        fig, ax = plt.subplots(count, 1)\n",
    "    \n",
    "    for pix in useful_pix:\n",
    "        cenX, cenY = func.gen_center_g2d(pix[0], pix[1], 3, 5, 4, 4, 0, image, model_plotting = True)\n",
    "        \n",
    "    "
   ]
  },
  {
   "cell_type": "markdown",
   "metadata": {},
   "source": [
    "## BCD vs. CBCD"
   ]
  },
  {
   "cell_type": "code",
   "execution_count": 6,
   "metadata": {
    "collapsed": false
   },
   "outputs": [
    {
     "data": {
      "text/plain": [
       "(19742, 7524)"
      ]
     },
     "execution_count": 6,
     "metadata": {},
     "output_type": "execute_result"
    }
   ],
   "source": [
    "bcd  = np.sort(glob.glob('/data1/phot_cal/spitzer/bd601753/r*/ch1/bcd/*_bcd.fits'))\n",
    "cbcd = np.sort(glob.glob('/data1/phot_cal/spitzer/bd601753/r*/ch1/bcd/*_cbcd.fits'))\n",
    "len(bcd), len(cbcd)"
   ]
  },
  {
   "cell_type": "markdown",
   "metadata": {},
   "source": [
    "## Outlier rejection test"
   ]
  },
  {
   "cell_type": "code",
   "execution_count": 1,
   "metadata": {
    "collapsed": true
   },
   "outputs": [],
   "source": [
    "import sep_aor_flux_gen as sep"
   ]
  },
  {
   "cell_type": "code",
   "execution_count": 2,
   "metadata": {
    "collapsed": true
   },
   "outputs": [],
   "source": [
    "pixLen  = 1.221 #arcsec\n",
    "pixArea = pixLen**2 #arcsec^2\n",
    "pixArea = pixArea/(206265**2)"
   ]
  },
  {
   "cell_type": "code",
   "execution_count": 7,
   "metadata": {
    "collapsed": false
   },
   "outputs": [],
   "source": [
    "AORnames = np.sort(glob.glob('/data1/phot_cal/spitzer/hd165459/cryo/r*/'))\n",
    "AORs = []\n",
    "\n",
    "for aor in AORnames:\n",
    "    fnames = np.sort(glob.glob(aor + 'ch1/bcd/*_bcd.fits'))\n",
    "    AORs.append(fnames)"
   ]
  },
  {
   "cell_type": "code",
   "execution_count": 8,
   "metadata": {
    "collapsed": false,
    "scrolled": true
   },
   "outputs": [
    {
     "name": "stderr",
     "output_type": "stream",
     "text": [
      "0it [00:00, ?it/s]\n",
      "0it [00:00, ?it/s]\u001b[A\n",
      "1it [00:00,  2.51it/s]\u001b[A\n",
      "2it [00:00,  3.01it/s]\u001b[A\n",
      "3it [00:00,  3.34it/s]\u001b[A\n",
      "4it [00:01,  3.56it/s]\u001b[A\n",
      "5it [00:01,  3.75it/s]\u001b[A\n",
      "6it [00:01,  3.73it/s]\u001b[A\n",
      "7it [00:01,  3.82it/s]\u001b[A\n",
      "8it [00:01,  4.05it/s]\u001b[A\n",
      "9it [00:02,  4.07it/s]\u001b[A\n",
      "10it [00:02,  4.25it/s]\u001b[A\n",
      "1it [00:02,  2.37s/it]\n",
      "0it [00:00, ?it/s]\u001b[A\n",
      "1it [00:00,  3.80it/s]\u001b[A\n",
      "2it [00:00,  4.09it/s]\u001b[A\n",
      "3it [00:00,  4.17it/s]\u001b[A\n",
      "4it [00:00,  4.62it/s]\u001b[A\n",
      "5it [00:01,  4.78it/s]\u001b[A\n",
      "6it [00:01,  5.06it/s]\u001b[A\n",
      "7it [00:01,  5.22it/s]\u001b[A\n",
      "8it [00:01,  5.38it/s]\u001b[A\n",
      "9it [00:01,  5.52it/s]\u001b[A\n",
      "10it [00:01,  5.66it/s]\u001b[A\n",
      "2it [00:04,  2.10s/it]\n",
      "0it [00:00, ?it/s]\u001b[A\n",
      "1it [00:00,  4.04it/s]\u001b[A\n",
      "2it [00:00,  4.98it/s]\u001b[A\n",
      "3it [00:00,  4.99it/s]\u001b[A\n",
      "4it [00:00,  5.40it/s]\u001b[A\n",
      "5it [00:00,  5.72it/s]\u001b[A\n",
      "6it [00:01,  5.45it/s]\u001b[A\n",
      "7it [00:01,  5.14it/s]\u001b[A\n",
      "8it [00:01,  5.34it/s]\u001b[A\n",
      "9it [00:01,  5.52it/s]\u001b[A\n",
      "10it [00:01,  5.66it/s]\u001b[A\n",
      "3it [00:06,  2.00s/it]\n",
      "0it [00:00, ?it/s]\u001b[A\n",
      "1it [00:00,  4.11it/s]\u001b[A\n",
      "2it [00:00,  4.16it/s]\u001b[A\n",
      "3it [00:00,  4.23it/s]\u001b[A\n",
      "4it [00:00,  4.82it/s]\u001b[A\n",
      "5it [00:00,  5.13it/s]\u001b[A\n",
      "6it [00:01,  5.44it/s]\u001b[A\n",
      "7it [00:01,  5.68it/s]\u001b[A\n",
      "8it [00:01,  5.89it/s]\u001b[A\n",
      "9it [00:01,  6.07it/s]\u001b[A\n",
      "10it [00:01,  6.21it/s]\u001b[A\n",
      "4it [00:07,  1.92s/it]\n",
      "0it [00:00, ?it/s]\u001b[A\n",
      "1it [00:00,  4.45it/s]\u001b[A\n",
      "2it [00:00,  5.00it/s]\u001b[A\n",
      "3it [00:00,  3.55it/s]\u001b[A\n",
      "4it [00:01,  3.84it/s]\u001b[A\n",
      "5it [00:01,  4.16it/s]\u001b[A\n",
      "6it [00:01,  4.17it/s]\u001b[A\n",
      "7it [00:01,  4.44it/s]\u001b[A\n",
      "8it [00:01,  4.45it/s]\u001b[A\n",
      "9it [00:01,  4.64it/s]\u001b[A\n",
      "10it [00:02,  4.81it/s]\u001b[A\n",
      "5it [00:09,  1.96s/it]\n",
      "0it [00:00, ?it/s]\u001b[A\n",
      "1it [00:00,  4.46it/s]\u001b[A\n",
      "2it [00:00,  4.34it/s]\u001b[A\n",
      "3it [00:00,  4.82it/s]\u001b[A\n",
      "4it [00:00,  4.75it/s]\u001b[A\n",
      "5it [00:01,  4.86it/s]\u001b[A\n",
      "6it [00:01,  4.50it/s]\u001b[A\n",
      "7it [00:01,  4.27it/s]\u001b[A\n",
      "8it [00:01,  4.41it/s]\u001b[A\n",
      "9it [00:01,  4.61it/s]\u001b[A\n",
      "10it [00:02,  4.77it/s]\u001b[A\n",
      "6it [00:11,  1.99s/it]\n",
      "0it [00:00, ?it/s]\u001b[A\n",
      "1it [00:00,  3.33it/s]\u001b[A\n",
      "2it [00:00,  4.38it/s]\u001b[A\n",
      "3it [00:00,  3.95it/s]\u001b[A\n",
      "4it [00:00,  4.09it/s]\u001b[A\n",
      "5it [00:01,  4.06it/s]\u001b[A\n",
      "6it [00:01,  4.37it/s]\u001b[A\n",
      "7it [00:01,  4.62it/s]\u001b[A\n",
      "8it [00:01,  4.80it/s]\u001b[A\n",
      "9it [00:01,  4.84it/s]\u001b[A\n",
      "10it [00:02,  4.85it/s]\u001b[A\n",
      "7it [00:14,  2.01s/it]\n",
      "0it [00:00, ?it/s]\u001b[A\n",
      "1it [00:00,  4.18it/s]\u001b[A\n",
      "2it [00:00,  3.60it/s]\u001b[A\n",
      "3it [00:00,  3.72it/s]\u001b[A\n",
      "4it [00:00,  4.30it/s]\u001b[A\n",
      "5it [00:01,  4.72it/s]\u001b[A\n",
      "6it [00:01,  5.05it/s]\u001b[A\n",
      "7it [00:01,  5.32it/s]\u001b[A\n",
      "8it [00:01,  5.54it/s]\u001b[A\n",
      "9it [00:01,  5.71it/s]\u001b[A\n",
      "10it [00:01,  5.81it/s]\u001b[A\n",
      "8it [00:15,  1.98s/it]\n",
      "0it [00:00, ?it/s]\u001b[A\n",
      "1it [00:00,  2.24it/s]\u001b[A\n",
      "2it [00:00,  3.00it/s]\u001b[A\n",
      "3it [00:00,  3.06it/s]\u001b[A\n",
      "4it [00:01,  3.55it/s]\u001b[A\n",
      "5it [00:01,  3.79it/s]\u001b[A\n",
      "6it [00:01,  3.92it/s]\u001b[A\n",
      "7it [00:01,  3.98it/s]\u001b[A\n",
      "8it [00:01,  4.06it/s]\u001b[A\n",
      "9it [00:02,  4.26it/s]\u001b[A\n",
      "10it [00:02,  4.41it/s]\u001b[A\n",
      "9it [00:18,  2.02s/it]\n",
      "0it [00:00, ?it/s]\u001b[A\n",
      "1it [00:00,  4.23it/s]\u001b[A\n",
      "2it [00:00,  3.42it/s]\u001b[A\n",
      "3it [00:00,  3.69it/s]\u001b[A\n",
      "4it [00:01,  3.77it/s]\u001b[A\n",
      "5it [00:01,  3.84it/s]\u001b[A\n",
      "6it [00:01,  3.97it/s]\u001b[A\n",
      "7it [00:01,  4.22it/s]\u001b[A\n",
      "8it [00:01,  4.10it/s]\u001b[A\n",
      "9it [00:02,  4.14it/s]\u001b[A\n",
      "10it [00:02,  4.20it/s]\u001b[A\n",
      "10it [00:20,  2.06s/it]\n",
      "0it [00:00, ?it/s]\u001b[A\n",
      "1it [00:00,  3.24it/s]\u001b[A\n",
      "2it [00:00,  4.29it/s]\u001b[A\n",
      "3it [00:00,  4.98it/s]\u001b[A\n",
      "4it [00:00,  5.29it/s]\u001b[A\n",
      "5it [00:00,  5.03it/s]\u001b[A\n",
      "6it [00:01,  5.33it/s]\u001b[A\n",
      "7it [00:01,  5.27it/s]\u001b[A\n",
      "8it [00:01,  5.49it/s]\u001b[A\n",
      "9it [00:01,  5.64it/s]\u001b[A\n",
      "10it [00:01,  5.76it/s]\u001b[A\n",
      "11it [00:22,  2.04s/it]\n",
      "0it [00:00, ?it/s]\u001b[A\n",
      "1it [00:00,  3.19it/s]\u001b[A\n",
      "2it [00:00,  3.10it/s]\u001b[A\n",
      "3it [00:00,  3.14it/s]\u001b[A\n",
      "4it [00:01,  3.44it/s]\u001b[A\n",
      "5it [00:01,  3.83it/s]\u001b[A\n",
      "6it [00:01,  3.94it/s]\u001b[A\n",
      "7it [00:01,  4.23it/s]\u001b[A\n",
      "8it [00:01,  4.10it/s]\u001b[A\n",
      "9it [00:02,  4.29it/s]\u001b[A\n",
      "10it [00:02,  4.47it/s]\u001b[A\n",
      "12it [00:24,  2.06s/it]\n",
      "0it [00:00, ?it/s]\u001b[A\n",
      "1it [00:00,  4.44it/s]\u001b[A\n",
      "2it [00:00,  4.41it/s]\u001b[A\n",
      "3it [00:00,  4.15it/s]\u001b[A\n",
      "4it [00:00,  4.19it/s]\u001b[A\n",
      "5it [00:01,  4.60it/s]\u001b[A\n",
      "6it [00:01,  4.62it/s]\u001b[A\n",
      "7it [00:01,  4.55it/s]\u001b[A\n",
      "8it [00:01,  4.77it/s]\u001b[A\n",
      "9it [00:01,  4.95it/s]\u001b[A\n",
      "10it [00:01,  5.12it/s]\u001b[A\n",
      "13it [00:26,  2.05s/it]\n",
      "0it [00:00, ?it/s]\u001b[A\n",
      "1it [00:00,  6.85it/s]\u001b[A\n",
      "2it [00:00,  6.46it/s]\u001b[A\n",
      "3it [00:00,  5.73it/s]\u001b[A\n",
      "4it [00:00,  6.09it/s]\u001b[A\n",
      "5it [00:00,  6.24it/s]\u001b[A\n",
      "6it [00:00,  6.11it/s]\u001b[A\n",
      "7it [00:01,  6.27it/s]\u001b[A\n",
      "8it [00:01,  6.40it/s]\u001b[A\n",
      "9it [00:01,  6.32it/s]\u001b[A\n",
      "10it [00:01,  6.10it/s]\u001b[A\n",
      "14it [00:28,  2.03s/it]\n",
      "0it [00:00, ?it/s]\u001b[A\n",
      "1it [00:00,  4.02it/s]\u001b[A\n",
      "2it [00:00,  4.12it/s]\u001b[A\n",
      "3it [00:00,  4.12it/s]\u001b[A\n",
      "4it [00:00,  4.64it/s]\u001b[A\n",
      "5it [00:01,  4.18it/s]\u001b[A\n",
      "6it [00:01,  4.12it/s]\u001b[A\n",
      "7it [00:01,  3.98it/s]\u001b[A\n",
      "8it [00:01,  4.16it/s]\u001b[A\n",
      "9it [00:02,  4.38it/s]\u001b[A\n",
      "10it [00:02,  4.57it/s]\u001b[A\n",
      "15it [00:30,  2.04s/it]\n",
      "0it [00:00, ?it/s]\u001b[A\n",
      "1it [00:00,  6.75it/s]\u001b[A\n",
      "2it [00:00,  5.51it/s]\u001b[A\n",
      "3it [00:00,  5.08it/s]\u001b[A\n",
      "4it [00:00,  4.24it/s]\u001b[A\n",
      "5it [00:01,  4.21it/s]\u001b[A\n",
      "6it [00:01,  4.55it/s]\u001b[A\n",
      "7it [00:01,  4.53it/s]\u001b[A\n",
      "8it [00:01,  4.31it/s]\u001b[A\n",
      "9it [00:01,  4.52it/s]\u001b[A\n",
      "10it [00:02,  4.69it/s]\u001b[A\n",
      "16it [00:32,  2.05s/it]\n",
      "0it [00:00, ?it/s]\u001b[A\n",
      "1it [00:00,  6.95it/s]\u001b[A\n",
      "2it [00:00,  5.06it/s]\u001b[A\n",
      "3it [00:00,  5.39it/s]\u001b[A\n",
      "4it [00:00,  5.58it/s]\u001b[A\n",
      "6it [00:00,  6.48it/s]\u001b[A\n",
      "7it [00:01,  6.57it/s]\u001b[A\n",
      "8it [00:01,  6.45it/s]\u001b[A\n",
      "9it [00:01,  6.50it/s]\u001b[A\n",
      "10it [00:01,  6.59it/s]\u001b[A\n",
      "17it [00:34,  2.02s/it]\n",
      "0it [00:00, ?it/s]\u001b[A\n",
      "1it [00:00,  6.67it/s]\u001b[A\n",
      "2it [00:00,  6.54it/s]\u001b[A\n",
      "3it [00:00,  6.63it/s]\u001b[A\n",
      "4it [00:00,  6.42it/s]\u001b[A\n",
      "5it [00:00,  6.43it/s]\u001b[A\n",
      "6it [00:00,  6.61it/s]\u001b[A\n",
      "7it [00:01,  5.56it/s]\u001b[A\n",
      "8it [00:01,  4.75it/s]\u001b[A\n",
      "9it [00:01,  4.74it/s]\u001b[A\n",
      "10it [00:02,  4.60it/s]\u001b[A\n",
      "18it [00:36,  2.04s/it]\n",
      "0it [00:00, ?it/s]\u001b[A\n",
      "1it [00:00,  2.73it/s]\u001b[A\n",
      "2it [00:00,  3.68it/s]\u001b[A\n",
      "3it [00:00,  3.90it/s]\u001b[A\n",
      "4it [00:00,  4.31it/s]\u001b[A\n",
      "5it [00:01,  4.30it/s]\u001b[A\n",
      "6it [00:01,  4.58it/s]\u001b[A\n",
      "7it [00:01,  4.78it/s]\u001b[A\n",
      "8it [00:01,  4.97it/s]\u001b[A\n",
      "9it [00:01,  5.15it/s]\u001b[A\n",
      "10it [00:01,  5.31it/s]\u001b[A\n",
      "19it [00:38,  2.03s/it]\n",
      "0it [00:00, ?it/s]\u001b[A\n",
      "1it [00:00,  4.44it/s]\u001b[A\n",
      "2it [00:00,  3.81it/s]\u001b[A\n",
      "3it [00:00,  4.01it/s]\u001b[A\n",
      "4it [00:00,  4.54it/s]\u001b[A\n",
      "5it [00:01,  4.42it/s]\u001b[A\n",
      "6it [00:01,  4.38it/s]\u001b[A\n",
      "7it [00:01,  4.41it/s]\u001b[A\n",
      "8it [00:01,  4.41it/s]\u001b[A\n",
      "9it [00:01,  4.59it/s]\u001b[A\n",
      "10it [00:02,  4.77it/s]\u001b[A\n",
      "20it [00:40,  2.04s/it]\n",
      "0it [00:00, ?it/s]\u001b[A\n",
      "1it [00:00,  6.72it/s]\u001b[A\n",
      "2it [00:00,  7.05it/s]\u001b[A\n",
      "3it [00:00,  5.71it/s]\u001b[A\n",
      "4it [00:00,  5.95it/s]\u001b[A\n",
      "5it [00:00,  5.87it/s]\u001b[A\n",
      "6it [00:01,  5.95it/s]\u001b[A\n",
      "7it [00:01,  6.13it/s]\u001b[A\n",
      "8it [00:01,  6.25it/s]\u001b[A\n",
      "9it [00:01,  6.37it/s]\u001b[A\n",
      "10it [00:01,  6.38it/s]\u001b[A\n",
      "21it [00:42,  2.02s/it]\n",
      "0it [00:00, ?it/s]\u001b[A\n",
      "1it [00:00,  3.31it/s]\u001b[A\n",
      "2it [00:00,  4.51it/s]\u001b[A\n",
      "3it [00:00,  4.42it/s]\u001b[A\n",
      "4it [00:00,  4.94it/s]\u001b[A\n",
      "5it [00:00,  5.08it/s]\u001b[A\n",
      "6it [00:01,  5.38it/s]\u001b[A\n",
      "7it [00:01,  5.56it/s]\u001b[A\n",
      "8it [00:01,  5.54it/s]\u001b[A\n",
      "9it [00:01,  5.49it/s]\u001b[A\n",
      "10it [00:01,  5.65it/s]\u001b[A\n",
      "22it [00:44,  2.01s/it]\n",
      "0it [00:00, ?it/s]\u001b[A\n",
      "1it [00:00,  4.67it/s]\u001b[A\n",
      "2it [00:00,  4.65it/s]\u001b[A\n",
      "3it [00:00,  4.15it/s]\u001b[A\n",
      "4it [00:00,  4.59it/s]\u001b[A\n",
      "5it [00:01,  4.85it/s]\u001b[A\n",
      "6it [00:01,  5.10it/s]\u001b[A\n",
      "7it [00:01,  5.03it/s]\u001b[A\n",
      "8it [00:01,  4.99it/s]\u001b[A\n",
      "9it [00:01,  5.15it/s]\u001b[A\n",
      "10it [00:01,  5.28it/s]\u001b[A\n",
      "23it [00:46,  2.00s/it]\n",
      "0it [00:00, ?it/s]\u001b[A\n",
      "1it [00:00,  5.50it/s]\u001b[A\n",
      "2it [00:00,  5.79it/s]\u001b[A\n",
      "3it [00:00,  5.96it/s]\u001b[A\n",
      "4it [00:00,  6.03it/s]\u001b[A\n",
      "5it [00:00,  5.18it/s]\u001b[A\n",
      "6it [00:01,  5.39it/s]\u001b[A\n",
      "7it [00:01,  5.32it/s]\u001b[A\n",
      "8it [00:01,  5.52it/s]\u001b[A\n",
      "9it [00:01,  5.65it/s]\u001b[A\n",
      "10it [00:01,  5.77it/s]\u001b[A\n",
      "24it [00:47,  2.00s/it]\n",
      "0it [00:00, ?it/s]\u001b[A\n",
      "1it [00:00,  4.28it/s]\u001b[A\n",
      "2it [00:00,  4.19it/s]\u001b[A\n",
      "3it [00:00,  4.77it/s]\u001b[A\n",
      "4it [00:00,  4.77it/s]\u001b[A\n",
      "5it [00:01,  4.37it/s]\u001b[A\n",
      "6it [00:01,  4.66it/s]\u001b[A\n",
      "7it [00:01,  4.86it/s]\u001b[A\n",
      "8it [00:01,  4.57it/s]\u001b[A\n",
      "9it [00:01,  4.55it/s]\u001b[A\n",
      "10it [00:02,  4.73it/s]\u001b[A\n",
      "25it [00:50,  2.00s/it]\n",
      "0it [00:00, ?it/s]\u001b[A\n",
      "1it [00:00,  4.93it/s]\u001b[A\n",
      "2it [00:00,  4.49it/s]\u001b[A\n",
      "3it [00:00,  5.25it/s]\u001b[A\n",
      "4it [00:00,  5.61it/s]\u001b[A\n",
      "5it [00:00,  5.92it/s]\u001b[A\n",
      "6it [00:00,  6.17it/s]\u001b[A\n",
      "7it [00:01,  6.35it/s]\u001b[A\n",
      "8it [00:01,  6.53it/s]\u001b[A\n",
      "9it [00:01,  6.66it/s]\u001b[A\n",
      "10it [00:01,  6.76it/s]\u001b[A\n",
      "26it [00:51,  1.98s/it]\n",
      "0it [00:00, ?it/s]\u001b[A\n",
      "1it [00:00,  2.85it/s]\u001b[A\n",
      "2it [00:00,  2.84it/s]\u001b[A\n",
      "3it [00:00,  3.22it/s]\u001b[A\n",
      "4it [00:01,  3.60it/s]\u001b[A\n",
      "5it [00:01,  3.95it/s]\u001b[A\n",
      "6it [00:01,  4.24it/s]\u001b[A\n",
      "7it [00:01,  4.41it/s]\u001b[A\n",
      "8it [00:01,  4.57it/s]\u001b[A\n",
      "9it [00:01,  4.73it/s]\u001b[A\n",
      "10it [00:02,  4.68it/s]\u001b[A\n",
      "27it [00:53,  1.99s/it]\n",
      "0it [00:00, ?it/s]\u001b[A\n",
      "1it [00:00,  5.95it/s]\u001b[A\n",
      "2it [00:00,  5.02it/s]\u001b[A\n",
      "3it [00:00,  3.95it/s]\u001b[AException KeyError: KeyError(<weakref at 0x7f27ef3d9158; to 'tqdm' at 0x7f27ee9484d0>,) in <bound method tqdm.__del__ of 3it [00:00,  3.58it/s]> ignored\n"
     ]
    },
    {
     "ename": "KeyboardInterrupt",
     "evalue": "",
     "output_type": "error",
     "traceback": [
      "\u001b[1;31m---------------------------------------------------------------------------\u001b[0m",
      "\u001b[1;31mKeyboardInterrupt\u001b[0m                         Traceback (most recent call last)",
      "\u001b[1;32m<ipython-input-8-06fb3139cf49>\u001b[0m in \u001b[0;36m<module>\u001b[1;34m()\u001b[0m\n\u001b[1;32m----> 1\u001b[1;33m \u001b[0ma\u001b[0m\u001b[1;33m,\u001b[0m \u001b[0mb\u001b[0m \u001b[1;33m=\u001b[0m \u001b[0msep\u001b[0m\u001b[1;33m.\u001b[0m\u001b[0mrun\u001b[0m\u001b[1;33m(\u001b[0m\u001b[0mAORs\u001b[0m\u001b[1;33m,\u001b[0m \u001b[1;34m'18 02 30.7410086899 +58 37 38.157415821'\u001b[0m\u001b[1;33m,\u001b[0m \u001b[1;36m10\u001b[0m\u001b[1;33m,\u001b[0m \u001b[1;36m12\u001b[0m\u001b[1;33m,\u001b[0m \u001b[1;36m20\u001b[0m\u001b[1;33m,\u001b[0m \u001b[1;36m1.0\u001b[0m\u001b[1;33m,\u001b[0m \u001b[0mpixArea\u001b[0m\u001b[1;33m,\u001b[0m \u001b[1;34m'n/a'\u001b[0m\u001b[1;33m)\u001b[0m\u001b[1;33m\u001b[0m\u001b[0m\n\u001b[0m",
      "\u001b[1;32m/home/rafia/irac_photometry/IRAC_photometry/sep_aor_flux_gen.py\u001b[0m in \u001b[0;36mrun\u001b[1;34m(AORs, sky, r, rIn, rOut, ap_corr, pixArea, N)\u001b[0m\n\u001b[0;32m     28\u001b[0m         \u001b[1;31m#Performing photometry on every image in an AOR\u001b[0m\u001b[1;33m\u001b[0m\u001b[1;33m\u001b[0m\u001b[0m\n\u001b[0;32m     29\u001b[0m         \u001b[1;32mif\u001b[0m \u001b[0mlen\u001b[0m\u001b[1;33m(\u001b[0m\u001b[0maor\u001b[0m\u001b[1;33m)\u001b[0m\u001b[1;33m>\u001b[0m\u001b[1;36m0\u001b[0m\u001b[1;33m:\u001b[0m\u001b[1;33m\u001b[0m\u001b[0m\n\u001b[1;32m---> 30\u001b[1;33m             \u001b[0mdata\u001b[0m\u001b[1;33m,\u001b[0m \u001b[0mheader\u001b[0m \u001b[1;33m=\u001b[0m \u001b[0mfunc\u001b[0m\u001b[1;33m.\u001b[0m\u001b[0msingle_target_phot\u001b[0m\u001b[1;33m(\u001b[0m\u001b[0maor\u001b[0m\u001b[1;33m,\u001b[0m \u001b[0msky\u001b[0m\u001b[1;33m,\u001b[0m \u001b[0mr\u001b[0m\u001b[1;33m,\u001b[0m \u001b[0mrIn\u001b[0m\u001b[1;33m,\u001b[0m \u001b[0mrOut\u001b[0m\u001b[1;33m)\u001b[0m\u001b[1;33m\u001b[0m\u001b[0m\n\u001b[0m\u001b[0;32m     31\u001b[0m         \u001b[1;32melse\u001b[0m\u001b[1;33m:\u001b[0m\u001b[1;33m\u001b[0m\u001b[0m\n\u001b[0;32m     32\u001b[0m             \u001b[0mproblem\u001b[0m\u001b[1;33m.\u001b[0m\u001b[0mappend\u001b[0m\u001b[1;33m(\u001b[0m\u001b[0mheader\u001b[0m\u001b[1;33m[\u001b[0m\u001b[1;34m'AORKEY'\u001b[0m\u001b[1;33m]\u001b[0m\u001b[1;33m)\u001b[0m\u001b[1;33m\u001b[0m\u001b[0m\n",
      "\u001b[1;32m/home/rafia/irac_photometry/IRAC_photometry/functions.py\u001b[0m in \u001b[0;36msingle_target_phot\u001b[1;34m(fnames, targetCrd, src_r, bkg_rIn, bkg_rOut)\u001b[0m\n\u001b[0;32m    110\u001b[0m         \u001b[1;33m(\u001b[0m\u001b[0mraw_flux\u001b[0m\u001b[1;33m,\u001b[0m \u001b[0mbkg_flux\u001b[0m\u001b[1;33m,\u001b[0m \u001b[0mres_flux\u001b[0m\u001b[1;33m,\u001b[0m \u001b[0mcenX\u001b[0m\u001b[1;33m,\u001b[0m \u001b[0mcenY\u001b[0m\u001b[1;33m,\u001b[0m \u001b[0mfx\u001b[0m\u001b[1;33m,\u001b[0m \u001b[0mfy\u001b[0m\u001b[1;33m)\u001b[0m \u001b[1;33m=\u001b[0m \u001b[1;33m(\u001b[0m\u001b[0mnp\u001b[0m\u001b[1;33m.\u001b[0m\u001b[0mnan\u001b[0m\u001b[1;33m,\u001b[0m \u001b[0mnp\u001b[0m\u001b[1;33m.\u001b[0m\u001b[0mnan\u001b[0m\u001b[1;33m,\u001b[0m \u001b[0mnp\u001b[0m\u001b[1;33m.\u001b[0m\u001b[0mnan\u001b[0m\u001b[1;33m,\u001b[0m \u001b[0mnp\u001b[0m\u001b[1;33m.\u001b[0m\u001b[0mnan\u001b[0m\u001b[1;33m,\u001b[0m \u001b[0mnp\u001b[0m\u001b[1;33m.\u001b[0m\u001b[0mnan\u001b[0m\u001b[1;33m,\u001b[0m \u001b[0mnp\u001b[0m\u001b[1;33m.\u001b[0m\u001b[0mnan\u001b[0m\u001b[1;33m,\u001b[0m \u001b[0mnp\u001b[0m\u001b[1;33m.\u001b[0m\u001b[0mnan\u001b[0m\u001b[1;33m)\u001b[0m\u001b[1;33m\u001b[0m\u001b[0m\n\u001b[0;32m    111\u001b[0m \u001b[1;33m\u001b[0m\u001b[0m\n\u001b[1;32m--> 112\u001b[1;33m         \u001b[0mhdu\u001b[0m    \u001b[1;33m=\u001b[0m \u001b[0mfits\u001b[0m\u001b[1;33m.\u001b[0m\u001b[0mopen\u001b[0m\u001b[1;33m(\u001b[0m\u001b[0mfn\u001b[0m\u001b[1;33m)\u001b[0m\u001b[1;33m\u001b[0m\u001b[0m\n\u001b[0m\u001b[0;32m    113\u001b[0m         \u001b[0mheader\u001b[0m \u001b[1;33m=\u001b[0m \u001b[0mhdu\u001b[0m\u001b[1;33m[\u001b[0m\u001b[1;36m0\u001b[0m\u001b[1;33m]\u001b[0m\u001b[1;33m.\u001b[0m\u001b[0mheader\u001b[0m\u001b[1;33m\u001b[0m\u001b[0m\n\u001b[0;32m    114\u001b[0m         \u001b[0mimage\u001b[0m  \u001b[1;33m=\u001b[0m \u001b[0mhdu\u001b[0m\u001b[1;33m[\u001b[0m\u001b[1;36m0\u001b[0m\u001b[1;33m]\u001b[0m\u001b[1;33m.\u001b[0m\u001b[0mdata\u001b[0m\u001b[1;33m\u001b[0m\u001b[0m\n",
      "\u001b[1;32m/home/rafia/anaconda2/lib/python2.7/site-packages/astropy/io/fits/hdu/hdulist.pyc\u001b[0m in \u001b[0;36mfitsopen\u001b[1;34m(name, mode, memmap, save_backup, cache, lazy_load_hdus, **kwargs)\u001b[0m\n\u001b[0;32m    160\u001b[0m \u001b[1;33m\u001b[0m\u001b[0m\n\u001b[0;32m    161\u001b[0m     return HDUList.fromfile(name, mode, memmap, save_backup, cache,\n\u001b[1;32m--> 162\u001b[1;33m                             lazy_load_hdus, **kwargs)\n\u001b[0m\u001b[0;32m    163\u001b[0m \u001b[1;33m\u001b[0m\u001b[0m\n\u001b[0;32m    164\u001b[0m \u001b[1;33m\u001b[0m\u001b[0m\n",
      "\u001b[1;32m/home/rafia/anaconda2/lib/python2.7/site-packages/astropy/io/fits/hdu/hdulist.pyc\u001b[0m in \u001b[0;36mfromfile\u001b[1;34m(cls, fileobj, mode, memmap, save_backup, cache, lazy_load_hdus, **kwargs)\u001b[0m\n\u001b[0;32m    411\u001b[0m         return cls._readfrom(fileobj=fileobj, mode=mode, memmap=memmap,\n\u001b[0;32m    412\u001b[0m                              \u001b[0msave_backup\u001b[0m\u001b[1;33m=\u001b[0m\u001b[0msave_backup\u001b[0m\u001b[1;33m,\u001b[0m \u001b[0mcache\u001b[0m\u001b[1;33m=\u001b[0m\u001b[0mcache\u001b[0m\u001b[1;33m,\u001b[0m\u001b[1;33m\u001b[0m\u001b[0m\n\u001b[1;32m--> 413\u001b[1;33m                              lazy_load_hdus=lazy_load_hdus, **kwargs)\n\u001b[0m\u001b[0;32m    414\u001b[0m \u001b[1;33m\u001b[0m\u001b[0m\n\u001b[0;32m    415\u001b[0m     \u001b[1;33m@\u001b[0m\u001b[0mclassmethod\u001b[0m\u001b[1;33m\u001b[0m\u001b[0m\n",
      "\u001b[1;32m/home/rafia/anaconda2/lib/python2.7/site-packages/astropy/io/fits/hdu/hdulist.pyc\u001b[0m in \u001b[0;36m_readfrom\u001b[1;34m(cls, fileobj, data, mode, memmap, save_backup, cache, lazy_load_hdus, **kwargs)\u001b[0m\n\u001b[0;32m    999\u001b[0m             \u001b[1;32mif\u001b[0m \u001b[1;32mnot\u001b[0m \u001b[0misinstance\u001b[0m\u001b[1;33m(\u001b[0m\u001b[0mfileobj\u001b[0m\u001b[1;33m,\u001b[0m \u001b[0m_File\u001b[0m\u001b[1;33m)\u001b[0m\u001b[1;33m:\u001b[0m\u001b[1;33m\u001b[0m\u001b[0m\n\u001b[0;32m   1000\u001b[0m                 \u001b[1;31m# instantiate a FITS file object (ffo)\u001b[0m\u001b[1;33m\u001b[0m\u001b[1;33m\u001b[0m\u001b[0m\n\u001b[1;32m-> 1001\u001b[1;33m                 \u001b[0mfileobj\u001b[0m \u001b[1;33m=\u001b[0m \u001b[0m_File\u001b[0m\u001b[1;33m(\u001b[0m\u001b[0mfileobj\u001b[0m\u001b[1;33m,\u001b[0m \u001b[0mmode\u001b[0m\u001b[1;33m=\u001b[0m\u001b[0mmode\u001b[0m\u001b[1;33m,\u001b[0m \u001b[0mmemmap\u001b[0m\u001b[1;33m=\u001b[0m\u001b[0mmemmap\u001b[0m\u001b[1;33m,\u001b[0m \u001b[0mcache\u001b[0m\u001b[1;33m=\u001b[0m\u001b[0mcache\u001b[0m\u001b[1;33m)\u001b[0m\u001b[1;33m\u001b[0m\u001b[0m\n\u001b[0m\u001b[0;32m   1002\u001b[0m             \u001b[1;31m# The Astropy mode is determined by the _File initializer if the\u001b[0m\u001b[1;33m\u001b[0m\u001b[1;33m\u001b[0m\u001b[0m\n\u001b[0;32m   1003\u001b[0m             \u001b[1;31m# supplied mode was None\u001b[0m\u001b[1;33m\u001b[0m\u001b[1;33m\u001b[0m\u001b[0m\n",
      "\u001b[1;32m/home/rafia/anaconda2/lib/python2.7/site-packages/astropy/utils/decorators.pyc\u001b[0m in \u001b[0;36mwrapper\u001b[1;34m(*args, **kwargs)\u001b[0m\n\u001b[0;32m    506\u001b[0m                         \u001b[1;31m# one with the name of the new argument to the function\u001b[0m\u001b[1;33m\u001b[0m\u001b[1;33m\u001b[0m\u001b[0m\n\u001b[0;32m    507\u001b[0m                         \u001b[0mkwargs\u001b[0m\u001b[1;33m[\u001b[0m\u001b[0mnew_name\u001b[0m\u001b[1;33m[\u001b[0m\u001b[0mi\u001b[0m\u001b[1;33m]\u001b[0m\u001b[1;33m]\u001b[0m \u001b[1;33m=\u001b[0m \u001b[0mvalue\u001b[0m\u001b[1;33m\u001b[0m\u001b[0m\n\u001b[1;32m--> 508\u001b[1;33m             \u001b[1;32mreturn\u001b[0m \u001b[0mfunction\u001b[0m\u001b[1;33m(\u001b[0m\u001b[1;33m*\u001b[0m\u001b[0margs\u001b[0m\u001b[1;33m,\u001b[0m \u001b[1;33m**\u001b[0m\u001b[0mkwargs\u001b[0m\u001b[1;33m)\u001b[0m\u001b[1;33m\u001b[0m\u001b[0m\n\u001b[0m\u001b[0;32m    509\u001b[0m \u001b[1;33m\u001b[0m\u001b[0m\n\u001b[0;32m    510\u001b[0m         \u001b[1;32mreturn\u001b[0m \u001b[0mwrapper\u001b[0m\u001b[1;33m\u001b[0m\u001b[0m\n",
      "\u001b[1;32m/home/rafia/anaconda2/lib/python2.7/site-packages/astropy/io/fits/file.pyc\u001b[0m in \u001b[0;36m__init__\u001b[1;34m(self, fileobj, mode, memmap, overwrite, cache)\u001b[0m\n\u001b[0;32m    148\u001b[0m             \u001b[0mself\u001b[0m\u001b[1;33m.\u001b[0m\u001b[0m_open_fileobj\u001b[0m\u001b[1;33m(\u001b[0m\u001b[0mfileobj\u001b[0m\u001b[1;33m,\u001b[0m \u001b[0mmode\u001b[0m\u001b[1;33m,\u001b[0m \u001b[0moverwrite\u001b[0m\u001b[1;33m)\u001b[0m\u001b[1;33m\u001b[0m\u001b[0m\n\u001b[0;32m    149\u001b[0m         \u001b[1;32melif\u001b[0m \u001b[0misinstance\u001b[0m\u001b[1;33m(\u001b[0m\u001b[0mfileobj\u001b[0m\u001b[1;33m,\u001b[0m \u001b[0mstring_types\u001b[0m\u001b[1;33m)\u001b[0m\u001b[1;33m:\u001b[0m\u001b[1;33m\u001b[0m\u001b[0m\n\u001b[1;32m--> 150\u001b[1;33m             \u001b[0mself\u001b[0m\u001b[1;33m.\u001b[0m\u001b[0m_open_filename\u001b[0m\u001b[1;33m(\u001b[0m\u001b[0mfileobj\u001b[0m\u001b[1;33m,\u001b[0m \u001b[0mmode\u001b[0m\u001b[1;33m,\u001b[0m \u001b[0moverwrite\u001b[0m\u001b[1;33m)\u001b[0m\u001b[1;33m\u001b[0m\u001b[0m\n\u001b[0m\u001b[0;32m    151\u001b[0m         \u001b[1;32melse\u001b[0m\u001b[1;33m:\u001b[0m\u001b[1;33m\u001b[0m\u001b[0m\n\u001b[0;32m    152\u001b[0m             \u001b[0mself\u001b[0m\u001b[1;33m.\u001b[0m\u001b[0m_open_filelike\u001b[0m\u001b[1;33m(\u001b[0m\u001b[0mfileobj\u001b[0m\u001b[1;33m,\u001b[0m \u001b[0mmode\u001b[0m\u001b[1;33m,\u001b[0m \u001b[0moverwrite\u001b[0m\u001b[1;33m)\u001b[0m\u001b[1;33m\u001b[0m\u001b[0m\n",
      "\u001b[1;32m/home/rafia/anaconda2/lib/python2.7/site-packages/astropy/io/fits/file.pyc\u001b[0m in \u001b[0;36m_open_filename\u001b[1;34m(self, filename, mode, overwrite)\u001b[0m\n\u001b[0;32m    482\u001b[0m         \u001b[1;32mif\u001b[0m \u001b[0mos\u001b[0m\u001b[1;33m.\u001b[0m\u001b[0mpath\u001b[0m\u001b[1;33m.\u001b[0m\u001b[0mexists\u001b[0m\u001b[1;33m(\u001b[0m\u001b[0mself\u001b[0m\u001b[1;33m.\u001b[0m\u001b[0mname\u001b[0m\u001b[1;33m)\u001b[0m\u001b[1;33m:\u001b[0m\u001b[1;33m\u001b[0m\u001b[0m\n\u001b[0;32m    483\u001b[0m             \u001b[1;32mwith\u001b[0m \u001b[0mfileobj_open\u001b[0m\u001b[1;33m(\u001b[0m\u001b[0mself\u001b[0m\u001b[1;33m.\u001b[0m\u001b[0mname\u001b[0m\u001b[1;33m,\u001b[0m \u001b[1;34m'rb'\u001b[0m\u001b[1;33m)\u001b[0m \u001b[1;32mas\u001b[0m \u001b[0mf\u001b[0m\u001b[1;33m:\u001b[0m\u001b[1;33m\u001b[0m\u001b[0m\n\u001b[1;32m--> 484\u001b[1;33m                 \u001b[0mmagic\u001b[0m \u001b[1;33m=\u001b[0m \u001b[0mf\u001b[0m\u001b[1;33m.\u001b[0m\u001b[0mread\u001b[0m\u001b[1;33m(\u001b[0m\u001b[1;36m4\u001b[0m\u001b[1;33m)\u001b[0m\u001b[1;33m\u001b[0m\u001b[0m\n\u001b[0m\u001b[0;32m    485\u001b[0m         \u001b[1;32melse\u001b[0m\u001b[1;33m:\u001b[0m\u001b[1;33m\u001b[0m\u001b[0m\n\u001b[0;32m    486\u001b[0m             \u001b[0mmagic\u001b[0m \u001b[1;33m=\u001b[0m \u001b[0mb\u001b[0m\u001b[1;33m(\u001b[0m\u001b[1;34m''\u001b[0m\u001b[1;33m)\u001b[0m\u001b[1;33m\u001b[0m\u001b[0m\n",
      "\u001b[1;31mKeyboardInterrupt\u001b[0m: "
     ]
    }
   ],
   "source": [
    "a, b = sep.run(AORs, '18 02 30.7410086899 +58 37 38.157415821', 10, 12, 20, 1.0, pixArea, 'n/a')"
   ]
  },
  {
   "cell_type": "code",
   "execution_count": null,
   "metadata": {
    "collapsed": true
   },
   "outputs": [],
   "source": []
  }
 ],
 "metadata": {
  "kernelspec": {
   "display_name": "Python 2",
   "language": "python",
   "name": "python2"
  },
  "language_info": {
   "codemirror_mode": {
    "name": "ipython",
    "version": 2
   },
   "file_extension": ".py",
   "mimetype": "text/x-python",
   "name": "python",
   "nbconvert_exporter": "python",
   "pygments_lexer": "ipython2",
   "version": "2.7.13"
  }
 },
 "nbformat": 4,
 "nbformat_minor": 0
}
